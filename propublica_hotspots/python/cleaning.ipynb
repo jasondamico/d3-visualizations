{
 "cells": [
  {
   "cell_type": "markdown",
   "metadata": {},
   "source": [
    "# Cleaning data for visualization\n",
    "While the data is not committed to the repository to save space, each of the data sets used in this notebook may be accessed at the following link, downloaded and stored locally in the `data` subdirectory of the `propublica_hotspots` directory such that you can run this notebook:\n",
    "- [ProPublica: Toxic Air Polution Hot Spots](https://www.propublica.org/datastore/dataset/toxic-air-pollution-hot-spots)\n",
    "- [2020 DEC Redistricting Data Race Table, geographically filtered by Place](https://data.census.gov/cedsci/table?g=0100000US%241600000&y=2020&d=DEC%20Redistricting%20Data%20%28PL%2094-171%29&tid=DECENNIALPL2020.P1)\n",
    "- [2010 DEC Redistricting Data Race Table, geographically filtered by Block](https://data.census.gov/cedsci/table?d=DEC%20Redistricting%20Data%20%28PL%2094-171%29)\n"
   ]
  }
 ],
 "metadata": {
  "kernelspec": {
   "display_name": "Python 3.8.5 64-bit",
   "language": "python",
   "name": "python3"
  },
  "language_info": {
   "codemirror_mode": {
    "name": "ipython",
    "version": 3
   },
   "file_extension": ".py",
   "mimetype": "text/x-python",
   "name": "python",
   "nbconvert_exporter": "python",
   "pygments_lexer": "ipython3",
   "version": "3.8.5"
  },
  "orig_nbformat": 4,
  "vscode": {
   "interpreter": {
    "hash": "064ce6ab17ed9fd24ebb6d2cba0bcb712f43df272f01958cdd4334cbdb1e79d2"
   }
  }
 },
 "nbformat": 4,
 "nbformat_minor": 2
}
